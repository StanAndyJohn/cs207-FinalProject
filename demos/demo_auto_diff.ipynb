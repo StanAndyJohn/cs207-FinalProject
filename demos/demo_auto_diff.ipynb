{
 "cells": [
  {
   "cell_type": "code",
   "execution_count": 9,
   "metadata": {},
   "outputs": [],
   "source": [
    "import sys\n",
    "sys.path.append('..')\n",
    "import autoDiff.autoDiff as ad\n",
    "import numpy as np"
   ]
  },
  {
   "cell_type": "markdown",
   "metadata": {},
   "source": [
    "## Demo 1: Single Variable"
   ]
  },
  {
   "cell_type": "code",
   "execution_count": 6,
   "metadata": {},
   "outputs": [
    {
     "name": "stdout",
     "output_type": "stream",
     "text": [
      "Variable([5], [1])\n"
     ]
    }
   ],
   "source": [
    "a = ad.StartUp(1)\n",
    "x = a.create_variable(3, 'x1')\n",
    "f = x+2\n",
    "print(f)"
   ]
  },
  {
   "cell_type": "markdown",
   "metadata": {},
   "source": [
    "## Demo 2: Multi Variables"
   ]
  },
  {
   "cell_type": "code",
   "execution_count": 7,
   "metadata": {},
   "outputs": [
    {
     "name": "stdout",
     "output_type": "stream",
     "text": [
      "Variable([8], [1 1])\n"
     ]
    }
   ],
   "source": [
    "a = ad.StartUp(2)\n",
    "x = a.create_variable(3, 'x1')\n",
    "y = a.create_variable(5, 'y1')\n",
    "f = x+y\n",
    "print(f)"
   ]
  },
  {
   "cell_type": "markdown",
   "metadata": {},
   "source": [
    "## Demo 3: Vector Functions"
   ]
  },
  {
   "cell_type": "code",
   "execution_count": 16,
   "metadata": {},
   "outputs": [
    {
     "name": "stdout",
     "output_type": "stream",
     "text": [
      "Variable([1. 4.], [[6.123234e-17 0.000000e+00 0.000000e+00]\n",
      " [0.000000e+00 4.000000e+00 1.200000e+01]])\n"
     ]
    }
   ],
   "source": [
    "a = ad.StartUp(3)\n",
    "x1 = a.create_variable(np.pi/2, 'x1')\n",
    "y1 = a.create_variable(3, 'y1')\n",
    "z1 = a.create_variable(-2, 'z1')\n",
    "f1 = ad.Variable().f([ad.func.sin(x1), 4*y1+z1**3])\n",
    "print(f1)"
   ]
  }
 ],
 "metadata": {
  "kernelspec": {
   "display_name": "Python 3",
   "language": "python",
   "name": "python3"
  },
  "language_info": {
   "codemirror_mode": {
    "name": "ipython",
    "version": 3
   },
   "file_extension": ".py",
   "mimetype": "text/x-python",
   "name": "python",
   "nbconvert_exporter": "python",
   "pygments_lexer": "ipython3",
   "version": "3.7.4"
  }
 },
 "nbformat": 4,
 "nbformat_minor": 2
}
